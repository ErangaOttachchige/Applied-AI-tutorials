{
  "nbformat": 4,
  "nbformat_minor": 0,
  "metadata": {
    "colab": {
      "provenance": [],
      "gpuType": "T4",
      "include_colab_link": true
    },
    "kernelspec": {
      "name": "python3",
      "display_name": "Python 3"
    },
    "language_info": {
      "name": "python"
    },
    "accelerator": "GPU"
  },
  "cells": [
    {
      "cell_type": "markdown",
      "metadata": {
        "id": "view-in-github",
        "colab_type": "text"
      },
      "source": [
        "<a href=\"https://colab.research.google.com/github/ErangaOttachchige/Overview-of-Colaboratory-Features/blob/main/Guided_Tutorial_01_Introduction_to_Google_Colab%2C_Python%2C_AI_Libraries%2C_and_AI_Coding_Assistants_.ipynb\" target=\"_parent\"><img src=\"https://colab.research.google.com/assets/colab-badge.svg\" alt=\"Open In Colab\"/></a>"
      ]
    },
    {
      "cell_type": "markdown",
      "source": [
        "Python Basics in Colab"
      ],
      "metadata": {
        "id": "5ZRzfzbtHqTQ"
      }
    },
    {
      "cell_type": "code",
      "execution_count": null,
      "metadata": {
        "id": "F5pzQl_fbatl"
      },
      "outputs": [],
      "source": [
        "print(\"Hello, Google Colab!\")\n",
        "# Variables\n",
        "x = 10\n",
        "y = 3.5\n",
        "name = \"Colab User\"\n",
        "print(x, y, name)"
      ]
    },
    {
      "cell_type": "code",
      "source": [],
      "metadata": {
        "id": "76LM2metH4eQ"
      },
      "execution_count": null,
      "outputs": []
    }
  ]
}