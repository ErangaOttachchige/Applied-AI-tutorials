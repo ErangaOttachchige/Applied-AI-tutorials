{
  "nbformat": 4,
  "nbformat_minor": 0,
  "metadata": {
    "colab": {
      "provenance": [],
      "authorship_tag": "ABX9TyN+poT3Xnftw5gF4rdR+kan",
      "include_colab_link": true
    },
    "kernelspec": {
      "name": "python3",
      "display_name": "Python 3"
    },
    "language_info": {
      "name": "python"
    }
  },
  "cells": [
    {
      "cell_type": "markdown",
      "metadata": {
        "id": "view-in-github",
        "colab_type": "text"
      },
      "source": [
        "<a href=\"https://colab.research.google.com/github/ErangaOttachchige/Overview-of-Colaboratory-Features/blob/main/Guided_Tutorial_01_Introduction_to_Google_Colab%2C_Python%2C_AI_Libraries%2C_and_AI_Coding_Assistants_.ipynb\" target=\"_parent\"><img src=\"https://colab.research.google.com/assets/colab-badge.svg\" alt=\"Open In Colab\"/></a>"
      ]
    },
    {
      "cell_type": "code",
      "execution_count": null,
      "metadata": {
        "id": "F5pzQl_fbatl"
      },
      "outputs": [],
      "source": []
    }
  ]
}