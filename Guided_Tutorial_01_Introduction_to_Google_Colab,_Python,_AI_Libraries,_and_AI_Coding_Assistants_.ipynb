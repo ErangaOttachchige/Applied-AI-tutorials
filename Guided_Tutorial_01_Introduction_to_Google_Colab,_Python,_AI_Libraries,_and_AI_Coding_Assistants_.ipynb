{
  "nbformat": 4,
  "nbformat_minor": 0,
  "metadata": {
    "colab": {
      "provenance": [],
      "gpuType": "T4",
      "include_colab_link": true
    },
    "kernelspec": {
      "name": "python3",
      "display_name": "Python 3"
    },
    "language_info": {
      "name": "python"
    },
    "accelerator": "GPU"
  },
  "cells": [
    {
      "cell_type": "markdown",
      "metadata": {
        "id": "view-in-github",
        "colab_type": "text"
      },
      "source": [
        "<a href=\"https://colab.research.google.com/github/ErangaOttachchige/Overview-of-Colaboratory-Features/blob/main/Guided_Tutorial_01_Introduction_to_Google_Colab%2C_Python%2C_AI_Libraries%2C_and_AI_Coding_Assistants_.ipynb\" target=\"_parent\"><img src=\"https://colab.research.google.com/assets/colab-badge.svg\" alt=\"Open In Colab\"/></a>"
      ]
    },
    {
      "cell_type": "markdown",
      "source": [
        "Python Basics in Colab"
      ],
      "metadata": {
        "id": "5ZRzfzbtHqTQ"
      }
    },
    {
      "cell_type": "code",
      "execution_count": 7,
      "metadata": {
        "id": "F5pzQl_fbatl",
        "colab": {
          "base_uri": "https://localhost:8080/"
        },
        "outputId": "7396cc9b-5907-452c-9085-5dcf9b2c7e77"
      },
      "outputs": [
        {
          "output_type": "stream",
          "name": "stdout",
          "text": [
            "Hello, Google Colab!\n",
            "10 3.5 Colab User\n"
          ]
        }
      ],
      "source": [
        "print(\"Hello, Google Colab!\")\n",
        "# Variables\n",
        "x = 10\n",
        "y = 3.5\n",
        "name = \"Colab User\"\n",
        "print(x, y, name)"
      ]
    },
    {
      "cell_type": "code",
      "source": [
        "# Lists & Loops\n",
        "numbers = [1, 2, 3, 4, 5]\n",
        "for num in numbers:\n",
        "  print(num * 2)\n",
        "\n",
        "\n",
        "Functions:\n",
        "def greet(name):\n",
        "  return f\"Hello, {name}!\"\n",
        "\n",
        "print(greet(\"Colab Learner\"))"
      ],
      "metadata": {
        "colab": {
          "base_uri": "https://localhost:8080/"
        },
        "id": "76LM2metH4eQ",
        "outputId": "595bb59d-26d2-4794-8451-40a2240e8ab7"
      },
      "execution_count": 3,
      "outputs": [
        {
          "output_type": "stream",
          "name": "stdout",
          "text": [
            "2\n",
            "4\n",
            "6\n",
            "8\n",
            "10\n",
            "Hello, Colab Learner!\n"
          ]
        }
      ]
    },
    {
      "cell_type": "code",
      "source": [],
      "metadata": {
        "id": "4qHtvD5wIf6o"
      },
      "execution_count": null,
      "outputs": []
    }
  ]
}